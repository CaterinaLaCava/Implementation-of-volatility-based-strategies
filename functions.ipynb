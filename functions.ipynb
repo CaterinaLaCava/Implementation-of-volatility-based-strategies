{
 "cells": [
  {
   "cell_type": "code",
   "execution_count": 1,
   "metadata": {},
   "outputs": [],
   "source": [
    "#this file contains all the necessary functions for the project\n",
    "import os\n",
    "import pandas as pd\n",
    "import gzip\n",
    "import tarfile\n",
    "import xlrd\n",
    "import datetime\n",
    "import matplotlib.pyplot as plt\n",
    "import numpy as np"
   ]
  },
  {
   "cell_type": "code",
   "execution_count": 12,
   "metadata": {},
   "outputs": [],
   "source": [
    "#one defines a function that returns an array of string, where each string is the name of a file in the folder passed as argument\n",
    "def get_file_names(folder):\n",
    "    file_names = []\n",
    "    for file in os.listdir(folder):\n",
    "        file_names.append(file)\n",
    "    return file_names\n",
    "\n"
   ]
  },
  {
   "cell_type": "code",
   "execution_count": 13,
   "metadata": {},
   "outputs": [],
   "source": [
    "#one defines a function that creates a file in the data folder, it takes as argument the name of the file and the content of the file\n",
    "def create_file(file_name, content):\n",
    "    with open(file_name, 'w') as file:\n",
    "        file.write(content)\n",
    "\n",
    "\n",
    "\n"
   ]
  },
  {
   "cell_type": "code",
   "execution_count": 14,
   "metadata": {},
   "outputs": [],
   "source": [
    "#this function takes as argument the name of a tar file file_path and uncompress it and store the content in the output_path\n",
    "def extract_tar(file_path, output_path):\n",
    "    #Extracts the contents of a .tar file to the specified output path.\n",
    "    #Args:\n",
    "    #file_path: The path to the .tar file.\n",
    "    #output_path: The path where the contents of the .tar file will be extracted.\n",
    "    try:\n",
    "        with tarfile.open(file_path, 'r') as tar:\n",
    "            tar.extractall(output_path)\n",
    "        print(f\"Extraction of {file_path} successful.\")\n",
    "    except tarfile.TarError as e:\n",
    "        print(f\"Error extracting {file_path}: {e}\")\n",
    "\n",
    "\n"
   ]
  },
  {
   "cell_type": "code",
   "execution_count": 15,
   "metadata": {},
   "outputs": [],
   "source": [
    "\n",
    "def extract_csv_gz_file(source_file, destination_directory):\n",
    "    \"\"\"\n",
    "    Extracts a .csv.gz file to a specified directory.\n",
    "\n",
    "    Args:\n",
    "    - source_file: The path to the .csv.gz file to be extracted.\n",
    "    - destination_directory: The directory where the extracted file will be saved.\n",
    "    \"\"\"\n",
    "    if not os.path.exists(destination_directory):\n",
    "        os.makedirs(destination_directory)\n",
    "    try:\n",
    "        file_name = os.path.basename(source_file)\n",
    "        output_file = os.path.join(destination_directory, os.path.splitext(file_name)[0])\n",
    "        with gzip.open(source_file, 'rb') as f_in, open(output_file, 'wb') as f_out:\n",
    "            f_out.write(f_in.read())\n",
    "        print(f\"File extracted to: {output_file}\")\n",
    "    except Exception as e:\n",
    "        print(f\"Error extracting file: {e}\")\n"
   ]
  },
  {
   "cell_type": "code",
   "execution_count": 16,
   "metadata": {},
   "outputs": [],
   "source": [
    "\n",
    "def xl_to_datetime(xltime):\n",
    "    #transform xltime into an object datetime\n",
    "    date_value = int(xltime)\n",
    "    time_value = (xltime - date_value) * 24 * 60 * 60  # Convert fraction of a day to seconds\n",
    "    date_tuple = xlrd.xldate_as_tuple(date_value, 0)  # 0 for 1900-based date system\n",
    "    year, month, day, hour, minute, second = date_tuple\n",
    "    date_time_obj = datetime.datetime(year, month, day, hour, minute, second) + datetime.timedelta(seconds=time_value)\n",
    "    return date_time_obj\n",
    "\n"
   ]
  },
  {
   "cell_type": "code",
   "execution_count": 17,
   "metadata": {},
   "outputs": [],
   "source": [
    "def convert_to_float(value):\n",
    "    try:\n",
    "        float_value = float(value)\n",
    "        return float_value if np.isfinite(float_value) else np.nan\n",
    "    except (ValueError, TypeError):\n",
    "        return np.nan\n"
   ]
  },
  {
   "cell_type": "code",
   "execution_count": 18,
   "metadata": {},
   "outputs": [],
   "source": [
    "    \n",
    "def resample_df(df):\n",
    "\n",
    "    #one apply the function xl_to_datetime to the column xltime of merged_df\n",
    "    df['datetime'] = df['xltime'].apply(xl_to_datetime)\n",
    "    df['bid-price'] = df['bid-price'].astype(float)\n",
    "    df['ask-price'] = df['ask-price'].astype(float)\n",
    "    df['bid-volume'] = df['bid-volume'].astype(float)\n",
    "    df['ask-volume'] = df['ask-volume'].astype(float)\n",
    "    #one drops the column xltime\n",
    "    df = df.drop(columns=['xltime'])\n",
    "    #one sets the column datetime as index\n",
    "    df = df.set_index('datetime')\n",
    "    df = df.resample('1T').agg({\n",
    "        'bid-price': 'mean',\n",
    "        'ask-price': 'mean',\n",
    "        'bid-volume': 'sum',\n",
    "        'ask-volume': 'sum'\n",
    "    })\n",
    "    return df\n",
    "\n"
   ]
  },
  {
   "cell_type": "code",
   "execution_count": 19,
   "metadata": {},
   "outputs": [],
   "source": [
    "def create_folder(directory_path, folder_name):\n",
    "    # Combine directory path and folder name to create the full path for the new folder\n",
    "    new_folder_path = os.path.join(directory_path, folder_name)\n",
    "\n",
    "    # Create the new folder if it doesn't already exist\n",
    "    if not os.path.exists(new_folder_path):\n",
    "        os.makedirs(new_folder_path)"
   ]
  },
  {
   "cell_type": "code",
   "execution_count": null,
   "metadata": {},
   "outputs": [],
   "source": []
  },
  {
   "cell_type": "code",
   "execution_count": null,
   "metadata": {},
   "outputs": [],
   "source": []
  },
  {
   "cell_type": "code",
   "execution_count": null,
   "metadata": {},
   "outputs": [],
   "source": []
  },
  {
   "cell_type": "code",
   "execution_count": null,
   "metadata": {},
   "outputs": [],
   "source": []
  }
 ],
 "metadata": {
  "kernelspec": {
   "display_name": "Python 3",
   "language": "python",
   "name": "python3"
  },
  "language_info": {
   "codemirror_mode": {
    "name": "ipython",
    "version": 3
   },
   "file_extension": ".py",
   "mimetype": "text/x-python",
   "name": "python",
   "nbconvert_exporter": "python",
   "pygments_lexer": "ipython3",
   "version": "3.9.13"
  }
 },
 "nbformat": 4,
 "nbformat_minor": 2
}
